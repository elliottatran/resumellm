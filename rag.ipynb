{
 "cells": [
  {
   "cell_type": "code",
   "execution_count": null,
   "id": "77feff68",
   "metadata": {},
   "outputs": [],
   "source": [
    "from langchain_openai.embeddings import OpenAIEmbeddings\n",
    "from langchain_chroma import Chroma\n",
    "from uuid import uuid4"
   ]
  },
  {
   "cell_type": "code",
   "execution_count": null,
   "id": "6926538f",
   "metadata": {},
   "outputs": [],
   "source": [
    "from langchain_community.document_loaders import JSONLoader, DirectoryLoader, TextLoader\n",
    "from langchain_text_splitters import RecursiveJsonSplitter\n",
    "import json\n",
    "from pathlib import Path\n",
    "from pprint import pprint"
   ]
  },
  {
   "cell_type": "code",
   "execution_count": null,
   "id": "9182b5f9",
   "metadata": {},
   "outputs": [],
   "source": [
    "with open('openai.txt') as f:\n",
    "    lines = f.readlines()\n",
    "    OPENAI_API_KEY = lines[0].strip()"
   ]
  },
  {
   "cell_type": "code",
   "execution_count": null,
   "id": "369c1b02",
   "metadata": {},
   "outputs": [],
   "source": [
    "loader = DirectoryLoader('./kb', glob='**/*.json', show_progress=True, loader_cls=JSONLoader, loader_kwargs = {'jq_schema':'.[]', 'text_content': False})\n",
    "data = loader.load()"
   ]
  },
  {
   "cell_type": "code",
   "execution_count": null,
   "id": "22a65e68",
   "metadata": {},
   "outputs": [],
   "source": [
    "# configuration\n",
    "DATA_PATH = r\"kb\"\n",
    "CHROMA_PATH = r\"chroma_db\"\n",
    "\n",
    "# initiate the embeddings model\n",
    "embeddings_model = OpenAIEmbeddings(model=\"text-embedding-3-large\", api_key=OPENAI_API_KEY)\n",
    "\n",
    "# initiate the vector store\n",
    "vector_store = Chroma(\n",
    "    collection_name=\"example_collection\",\n",
    "    embedding_function=embeddings_model,\n",
    "    persist_directory=CHROMA_PATH,\n",
    ")\n",
    "\n",
    "# creating unique ID's\n",
    "uuids = [str(uuid4()) for _ in range(len(data))]\n",
    "\n",
    "# adding chunks to vector store\n",
    "vector_store.add_documents(documents=data, ids=uuids)"
   ]
  }
 ],
 "metadata": {
  "language_info": {
   "name": "python"
  }
 },
 "nbformat": 4,
 "nbformat_minor": 5
}
